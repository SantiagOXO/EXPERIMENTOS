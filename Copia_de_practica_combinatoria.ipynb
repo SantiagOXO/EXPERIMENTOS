{
  "nbformat": 4,
  "nbformat_minor": 0,
  "metadata": {
    "colab": {
      "provenance": [],
      "toc_visible": true
    },
    "kernelspec": {
      "name": "python3",
      "display_name": "Python 3"
    },
    "language_info": {
      "name": "python"
    }
  },
  "cells": [
    {
      "cell_type": "markdown",
      "source": [],
      "metadata": {
        "id": "AK9LX9BZryBV"
      }
    },
    {
      "cell_type": "markdown",
      "source": [],
      "metadata": {
        "id": "seEdc-jcGPcb"
      }
    },
    {
      "cell_type": "markdown",
      "source": [
        "#EXPERIMENTOS\n",
        "\n"
      ],
      "metadata": {
        "id": "1dmu8xJ1F1-r"
      }
    },
    {
      "cell_type": "code",
      "source": [
        "equipo = [\"santi, david, buki, lucas, guille\"]\n",
        "print(equipo)"
      ],
      "metadata": {
        "colab": {
          "base_uri": "https://localhost:8080/"
        },
        "id": "bJ56C1L-mos4",
        "outputId": "215834c7-224d-44d8-c00d-b7f142a32df8"
      },
      "execution_count": null,
      "outputs": [
        {
          "output_type": "stream",
          "name": "stdout",
          "text": [
            "['santi, david, buki, lucas, vara']\n"
          ]
        }
      ]
    },
    {
      "cell_type": "code",
      "source": [
        "inscripción = 58\n",
        "if inscripción >= 58:\n",
        "  print(\"bienvenido al anahuac\")\n",
        "else:\n",
        "  print(\"que te jodan puto moroso paga la coca perro\")\n",
        "  "
      ],
      "metadata": {
        "colab": {
          "base_uri": "https://localhost:8080/"
        },
        "id": "LqIOJubYno4s",
        "outputId": "b28ba444-fb0d-4724-df59-490ebb26d36c"
      },
      "execution_count": null,
      "outputs": [
        {
          "output_type": "stream",
          "name": "stdout",
          "text": [
            "Bienvenido al Anahuac\n"
          ]
        }
      ]
    },
    {
      "cell_type": "code",
      "source": [
        "nombre = \"vara\"\n",
        "inscripción = 58\n",
        "if inscripción >= 58:\n",
        "  equipo.append(nombre)\n",
        "  print(equipo)\n",
        "else:\n",
        "  print(\"que te jodan puto moroso paga la coca perro\")\n",
        "  \n",
        "\n",
        "\n"
      ],
      "metadata": {
        "colab": {
          "base_uri": "https://localhost:8080/"
        },
        "id": "e0htSElsr0N-",
        "outputId": "e7c96684-5f7b-4a3c-ce0a-368167c892c9"
      },
      "execution_count": null,
      "outputs": [
        {
          "output_type": "stream",
          "name": "stdout",
          "text": [
            "['santi, david, buki, lucas, vara', 'alberto', 'alberto', 'vara']\n"
          ]
        }
      ]
    }
  ]
}